{
 "cells": [
  {
   "cell_type": "markdown",
   "metadata": {},
   "source": [
    "\"\"\"\n",
    "Imagine que você está implementando um sistema para verificar \n",
    "se os alunos de uma turma estudantil passaram na disciplina ou não. \n",
    "Para isso solicite que o usuário insira as notas \n",
    "das 4 provas realizadas por um estudante e calcule a média. \n",
    "Após isso, emita uma resposta booleana (True ou False) se o estudante \n",
    "passou na disciplina pensando que a média mínima\n",
    "para aprovação é que seja pelo menos 5.\n",
    "\"\"\"\n",
    "\n"
   ]
  },
  {
   "cell_type": "code",
   "execution_count": null,
   "metadata": {},
   "outputs": [
    {
     "name": "stdout",
     "output_type": "stream",
     "text": [
      "nice\n"
     ]
    }
   ],
   "source": [
    "print(\"nice2\")"
   ]
  }
 ],
 "metadata": {
  "kernelspec": {
   "display_name": "Python 3",
   "language": "python",
   "name": "python3"
  },
  "language_info": {
   "codemirror_mode": {
    "name": "ipython",
    "version": 3
   },
   "file_extension": ".py",
   "mimetype": "text/x-python",
   "name": "python",
   "nbconvert_exporter": "python",
   "pygments_lexer": "ipython3",
   "version": "3.10.11"
  },
  "orig_nbformat": 4
 },
 "nbformat": 4,
 "nbformat_minor": 2
}
