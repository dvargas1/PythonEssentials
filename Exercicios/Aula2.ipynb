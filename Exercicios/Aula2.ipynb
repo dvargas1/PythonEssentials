{
 "cells": [
  {
   "cell_type": "markdown",
   "metadata": {},
   "source": [
    "Faça um programa que peça a idade do usuário e imprima se ele é maior ou menor de 18 anos."
   ]
  },
  {
   "cell_type": "markdown",
   "metadata": {},
   "source": [
    "Faça um programa que peça um número e mostre se ele é positivo ou negativo. Alternativa: acrescentar nulo"
   ]
  },
  {
   "cell_type": "markdown",
   "metadata": {},
   "source": [
    "Faça um programa que peça dois números e mostre o maior deles."
   ]
  },
  {
   "cell_type": "markdown",
   "metadata": {},
   "source": [
    "Faça um programa que leia a validade das informações:\n",
    "    a. Idade: entre 0 e 150;\n",
    "    b. Salário: maior que 0;\n",
    "    c. Sexo: M, F ou Outro;\n",
    "    O programa deve imprimir uma mensagem de erro para cada informação inválida."
   ]
  },
  {
   "cell_type": "markdown",
   "metadata": {},
   "source": [
    "Escreva um programa que peça a nota de 3 provas de um aluno e verifique se ele passou ou não de ano.\n",
    "Obs.: O aluno irá passar de ano se sua média for maior que 6."
   ]
  },
  {
   "cell_type": "markdown",
   "metadata": {},
   "source": [
    "Faça um programa que mostre uma questão de múltipla escolha com 5 opções (letras a, b, c, d, e). \n",
    "Sabendo a resposta certa, o programa deve receber a opção do usuário e informar a letra que o usuário marcou e se a resposta está certa ou errada."
   ]
  },
  {
   "cell_type": "markdown",
   "metadata": {},
   "source": [
    "Vamos fazer um programa para verificar quem é o assassino de um crime. Para descobrir o assassino, a polícia faz um pequeno questionário com 5 perguntas  onde a resposta só pode ser sim ou não:\n",
    "a. Mora perto da vítima?\n",
    "b. Já trabalhou com a vítima?\n",
    "c. Telefonou para a vítima?\n",
    "d. Esteve no local do crime?\n",
    "e. Devia para a vítima?\n",
    "Cada resposta sim dá um ponto para o suspeito. A polícia considera que os suspeitos com 5 pontos são os assassinos, com 4 a 3 pontos \n",
    "são cúmplices e 2 pontos são apenas suspeitos, necessitando outras investigações. Valores iguais ou abaixo de 1 são liberados.'''"
   ]
  },
  {
   "cell_type": "markdown",
   "metadata": {},
   "source": [
    "Um produto vai sofrer aumento de acordo com a Tabela 1 abaixo. Faça um programa que peça para o usuário digitar o valor do produto de acordo \n",
    "com o preço antigo e escreva uma das mensagens da Tabela 2, de acordo com o preço reajustado:\n",
    "\n",
    "Tabela 1\n",
    "\n",
    "| Preço Antigo         | % de aumento |\n",
    "|----------------------|--------------|\n",
    "| Até 50 reais         | 5%           |\n",
    "| Entre 50 e 100 reais | 10%          |\n",
    "| De 100 a 150 reais   | 13%          |\n",
    "| Acima de 150 reais   | 15%          |\n",
    "\n",
    "Tabela 2\n",
    "\n",
    "| Preço Novo            | Mensagem   |\n",
    "|-----------------------|------------|\n",
    "| Até 80 reais          | Barato     |\n",
    "| Entre 80 e 115 reais  | Razoável   |\n",
    "| Entre 115 e 150 reais | Normal     |\n",
    "| Entre 150 e 170 reais | Caro       |\n",
    "| Acima de 170 reais    | Muito Caro |"
   ]
  },
  {
   "cell_type": "markdown",
   "metadata": {},
   "source": [
    "Desafio 1 - Faça um programa que leia 3 números e informe o maior deles."
   ]
  }
 ],
 "metadata": {
  "kernelspec": {
   "display_name": "Python 3",
   "language": "python",
   "name": "python3"
  },
  "language_info": {
   "codemirror_mode": {
    "name": "ipython",
    "version": 3
   },
   "file_extension": ".py",
   "mimetype": "text/x-python",
   "name": "python",
   "nbconvert_exporter": "python",
   "pygments_lexer": "ipython3",
   "version": "3.10.11"
  },
  "orig_nbformat": 4
 },
 "nbformat": 4,
 "nbformat_minor": 2
}
