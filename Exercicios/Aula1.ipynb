{
 "cells": [
  {
   "cell_type": "markdown",
   "metadata": {},
   "source": [
    "Imagine que você está implementando um sistema para verificar \n",
    "se os alunos de uma turma estudantil passaram na disciplina ou não. \n",
    "Para isso solicite que o usuário insira as notas \n",
    "das 4 provas realizadas por um estudante e calcule a média. \n",
    "Após isso, emita uma resposta booleana (True ou False) se o estudante \n",
    "passou na disciplina pensando que a média mínima\n",
    "para aprovação é que seja pelo menos 5."
   ]
  },
  {
   "cell_type": "code",
   "execution_count": null,
   "metadata": {},
   "outputs": [],
   "source": [
    "# ###\n",
    "#     Aqui fiz definição para inserir a quantidade de provas antes do programa rodar, ele vai adicionar e lidar com todos os tipos de dados.\n",
    "# ###\n",
    "\n",
    "def get_notas(quantidade_de_provas):\n",
    "    notas = []\n",
    "    while len(notas) < quantidade_de_provas:\n",
    "        nota = int(input(\"adicione a nota da prova\"))\n",
    "        notas.append(nota)\n",
    "    return notas\n",
    "\n",
    "def calculate_media(notas):\n",
    "   return sum(notas) / len(notas)\n",
    "\n",
    "def verify_aprov(media):\n",
    "    if media >= 5:\n",
    "        return True\n",
    "    return False\n",
    "\n",
    "quantidade_de_notas = int(input(\"Quantas notas voce quer adicionar?\"))\n",
    "notas = get_notas(quantidade_de_notas)\n",
    "media = calculate_media(notas)\n",
    "if verify_aprov(media):\n",
    "    print(\"O Aluno foi aprovado\")\n",
    "else:\n",
    "    print(\"O Aluno foi reprovado\")"
   ]
  },
  {
   "cell_type": "markdown",
   "metadata": {},
   "source": [
    "Crie um algoritmo que calcule o IMC (índice de massa corporal). \n",
    "O IMC é calculado com a formula PESO/(ALTURA ^ 2). Para isso,\n",
    "coloque as informações nas variáveis e ao final apresente o \n",
    "resultado como no exemplo: \"O IMC é 18\""
   ]
  },
  {
   "cell_type": "code",
   "execution_count": null,
   "metadata": {},
   "outputs": [],
   "source": [
    "Peso = int(input(\"insira seu peso\"))\n",
    "Altura = int(input(\"insira sua altura\"))\n",
    "\n",
    "IMC = (Peso / (Altura ** 2)) * 100\n",
    "\n",
    "print(f\"O IMC é {IMC}\")"
   ]
  },
  {
   "cell_type": "markdown",
   "metadata": {},
   "source": [
    "Escreva um algoritmo que calcule (x + y) * (x + y). \n",
    "Os valores de x e y devem ser inseridos pelo usuário"
   ]
  },
  {
   "cell_type": "code",
   "execution_count": null,
   "metadata": {},
   "outputs": [],
   "source": [
    "x = int(input(\"insira o valor de x\"))\n",
    "y = int(input(\"insira o valor de y\"))\n",
    "        \n",
    "resultado = (x + y) * (x + y)\n",
    "\n",
    "print(resultado)"
   ]
  }
 ],
 "metadata": {
  "kernelspec": {
   "display_name": "Python 3",
   "language": "python",
   "name": "python3"
  },
  "language_info": {
   "codemirror_mode": {
    "name": "ipython",
    "version": 3
   },
   "file_extension": ".py",
   "mimetype": "text/x-python",
   "name": "python",
   "nbconvert_exporter": "python",
   "pygments_lexer": "ipython3",
   "version": "3.10.11"
  },
  "orig_nbformat": 4
 },
 "nbformat": 4,
 "nbformat_minor": 2
}
