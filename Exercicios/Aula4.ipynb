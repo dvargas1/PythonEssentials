{
 "cells": [
  {
   "cell_type": "markdown",
   "metadata": {},
   "source": [
    "Crie uma lista qualquer e faça um programa que imprima cada elemento da lista usando o for."
   ]
  },
  {
   "cell_type": "code",
   "execution_count": null,
   "metadata": {},
   "outputs": [],
   "source": [
    "list = [1, 2, 3, 4, 5, 6, 7]\n",
    "\n",
    "for element in encarte:\n",
    "    print(element)"
   ]
  },
  {
   "cell_type": "markdown",
   "metadata": {},
   "source": [
    "Faça um programa que imprima todos os itens de uma lista usando while e compare com o exercício 1."
   ]
  },
  {
   "cell_type": "code",
   "execution_count": null,
   "metadata": {},
   "outputs": [],
   "source": [
    "list = [1, 2, 3, 4, 5, 6, 7]\n",
    "\n",
    "i = 0\n",
    "while i < len(list):\n",
    "    print(list[i])\n",
    "    i += 1"
   ]
  },
  {
   "cell_type": "markdown",
   "metadata": {},
   "source": [
    "Faça um programa que peça para o usuário digitar um número n e imprima uma lista com todos os números de 0 a n-1."
   ]
  },
  {
   "cell_type": "code",
   "execution_count": null,
   "metadata": {},
   "outputs": [],
   "source": [
    "n = int(input(\"insira um numero\"))\n",
    "\n",
    "for i in range(0, n):\n",
    "    print(i)"
   ]
  },
  {
   "cell_type": "markdown",
   "metadata": {},
   "source": [
    "Faça um programa que olhe todos os itens de uma lista e diga quantos deles são pares. "
   ]
  },
  {
   "cell_type": "code",
   "execution_count": null,
   "metadata": {},
   "outputs": [],
   "source": [
    "list = [1, 2, 3, 4, 5, 6, 7, 8]\n",
    "\n",
    "for element in list:\n",
    "    if element % 2 == 0:\n",
    "        print(element)"
   ]
  },
  {
   "cell_type": "markdown",
   "metadata": {},
   "source": [
    "Faça um programa que imprima o maior número de uma lista, sem usar o método max()"
   ]
  },
  {
   "cell_type": "code",
   "execution_count": null,
   "metadata": {},
   "outputs": [],
   "source": [
    "list = [1, 2, 3, 4, 5, 6, 7, 8]\n",
    "\n",
    "# max = 0\n",
    "# for element in list:\n",
    "#     if element > max:\n",
    "#         max = element\n",
    "# print(max)\n",
    "\n",
    "list.sort()\n",
    "print(list[len(list) - 1])\n"
   ]
  },
  {
   "cell_type": "markdown",
   "metadata": {},
   "source": [
    "Agora usando o método max() faça um programa que imprima os três maiores números de uma lista."
   ]
  },
  {
   "cell_type": "code",
   "execution_count": null,
   "metadata": {},
   "outputs": [],
   "source": [
    "list_value = [12, 2, 5, 31, 14, 55, 6, 71, 8]\n",
    "list_to_print = []\n",
    "\n",
    "for i in range(3):\n",
    "    max_var = max(list_value)\n",
    "    list_to_print.append(max_var)\n",
    "    list_value.remove(max_var)\n",
    "\n",
    "print(list_to_print)"
   ]
  },
  {
   "cell_type": "markdown",
   "metadata": {},
   "source": [
    "Faça um programa que, dadas duas listas de mesmo tamanho, crie uma nova lista com cada elemento igual a soma dos elementos da lista 1 com os da lista 2, na mesma posição."
   ]
  },
  {
   "cell_type": "code",
   "execution_count": 2,
   "metadata": {},
   "outputs": [
    {
     "name": "stdout",
     "output_type": "stream",
     "text": [
      "[33, 3, 9, 44, 55, 80, 67, 88, 106]\n"
     ]
    }
   ],
   "source": [
    "list1 = [21, 1, 4, 13, 41, 25, 61, 17, 98]\n",
    "\n",
    "list2 = [12, 2, 5, 31, 14, 55, 6, 71, 8]\n",
    "\n",
    "list3 = []\n",
    "\n",
    "for i in range(len(list1)):\n",
    "    toAppend = list1[i] + list2[i]\n",
    "    list3.append(toAppend)\n",
    "\n",
    "# i = 0\n",
    "# while i < len(list1):\n",
    "#     list3.append(list1[i] + list2[i])\n",
    "#     i += 1\n",
    "\n",
    "print(list3)"
   ]
  },
  {
   "cell_type": "markdown",
   "metadata": {},
   "source": [
    "Faça um programa que dadas duas listas de mesmo tamanho, imprima o produto escalar entre elas. "
   ]
  },
  {
   "cell_type": "code",
   "execution_count": 1,
   "metadata": {},
   "outputs": [
    {
     "name": "stdout",
     "output_type": "stream",
     "text": [
      "4983\n"
     ]
    }
   ],
   "source": [
    "list1 = [21, 1, 4, 13, 41, 25, 61, 17, 98]\n",
    "\n",
    "list2 = [12, 2, 5, 31, 14, 55, 6, 71, 8]\n",
    "\n",
    "list3 = []\n",
    "\n",
    "for i in range(len(list1)):\n",
    "    list3.append(list1[i] * list2[i])\n",
    "\n",
    "total_escalar = sum(list3)\n",
    "print(total_escalar)"
   ]
  },
  {
   "cell_type": "markdown",
   "metadata": {},
   "source": [
    "Faça um programa que pede para o usuário digitar 5 números e, ao final, imprime uma lista com os 5 números digitados pelo usuário (sem converter os números para int ou float)."
   ]
  },
  {
   "cell_type": "code",
   "execution_count": null,
   "metadata": {},
   "outputs": [],
   "source": [
    "list = []\n",
    "for _ in range(5):\n",
    "    list.append(int(input(\"digite um numero\")))\n",
    "print(list)"
   ]
  },
  {
   "cell_type": "markdown",
   "metadata": {},
   "source": [
    "Pegue a lista gerada no exercício anterior e transforme cada um dos itens dessa lista em um float."
   ]
  },
  {
   "cell_type": "code",
   "execution_count": null,
   "metadata": {},
   "outputs": [],
   "source": [
    "list = []\n",
    "float_list = []\n",
    "for _ in range(5):\n",
    "    list.append(int(input(\"digite um numero\")))\n",
    "for i in list:\n",
    "    float_list.append(float(i))\n",
    "\n",
    "print(float_list)"
   ]
  },
  {
   "cell_type": "markdown",
   "metadata": {},
   "source": [
    "Faça um Programa que peça as 4 notas bimestrais e mostre a média, usando listas."
   ]
  },
  {
   "cell_type": "code",
   "execution_count": null,
   "metadata": {},
   "outputs": [],
   "source": [
    "def get_notas(quantidade_de_provas):\n",
    "    notas = []\n",
    "    while len(notas) < quantidade_de_provas:\n",
    "        nota = int(input(\"adicione a nota da prova\"))\n",
    "        notas.append(nota)\n",
    "    return notas\n",
    "\n",
    "def calculate_media(notas):\n",
    "   return sum(notas) / len(notas)\n",
    "\n",
    "def verify_aprov(media):\n",
    "    if media >= 5:\n",
    "        return True\n",
    "    return False\n",
    "\n",
    "quantidade_de_notas = int(input(\"Quantas notas voce quer adicionar?\"))\n",
    "notas = get_notas(quantidade_de_notas)\n",
    "media = calculate_media(notas)\n",
    "if verify_aprov(media):\n",
    "    print(\"O Aluno foi aprovado\")\n",
    "else:\n",
    "    print(\"O Aluno foi reprovado\")"
   ]
  }
 ],
 "metadata": {
  "kernelspec": {
   "display_name": "Python 3",
   "language": "python",
   "name": "python3"
  },
  "language_info": {
   "codemirror_mode": {
    "name": "ipython",
    "version": 3
   },
   "file_extension": ".py",
   "mimetype": "text/x-python",
   "name": "python",
   "nbconvert_exporter": "python",
   "pygments_lexer": "ipython3",
   "version": "3.10.11"
  },
  "orig_nbformat": 4
 },
 "nbformat": 4,
 "nbformat_minor": 2
}
